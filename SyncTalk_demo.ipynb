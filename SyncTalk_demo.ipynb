{
  "cells": [
    {
      "cell_type": "markdown",
      "metadata": {
        "id": "view-in-github",
        "colab_type": "text"
      },
      "source": [
        "<a href=\"https://colab.research.google.com/github/alantypoon/24/blob/main/SyncTalk_demo.ipynb\" target=\"_parent\"><img src=\"https://colab.research.google.com/assets/colab-badge.svg\" alt=\"Open In Colab\"/></a>"
      ]
    },
    {
      "cell_type": "code",
      "source": [],
      "metadata": {
        "id": "HHFPwFTeMWim"
      },
      "execution_count": null,
      "outputs": []
    },
    {
      "cell_type": "code",
      "execution_count": 1,
      "metadata": {
        "id": "_RH7GDPsMVJt",
        "colab": {
          "base_uri": "https://localhost:8080/"
        },
        "outputId": "9c2bff6e-0ce6-49a3-db43-f336e98cf975"
      },
      "outputs": [
        {
          "output_type": "stream",
          "name": "stdout",
          "text": [
            "Tue Sep  3 13:55:29 2024       \n",
            "+---------------------------------------------------------------------------------------+\n",
            "| NVIDIA-SMI 535.104.05             Driver Version: 535.104.05   CUDA Version: 12.2     |\n",
            "|-----------------------------------------+----------------------+----------------------+\n",
            "| GPU  Name                 Persistence-M | Bus-Id        Disp.A | Volatile Uncorr. ECC |\n",
            "| Fan  Temp   Perf          Pwr:Usage/Cap |         Memory-Usage | GPU-Util  Compute M. |\n",
            "|                                         |                      |               MIG M. |\n",
            "|=========================================+======================+======================|\n",
            "|   0  Tesla T4                       Off | 00000000:00:04.0 Off |                    0 |\n",
            "| N/A   66C    P8              12W /  70W |      0MiB / 15360MiB |      0%      Default |\n",
            "|                                         |                      |                  N/A |\n",
            "+-----------------------------------------+----------------------+----------------------+\n",
            "                                                                                         \n",
            "+---------------------------------------------------------------------------------------+\n",
            "| Processes:                                                                            |\n",
            "|  GPU   GI   CI        PID   Type   Process name                            GPU Memory |\n",
            "|        ID   ID                                                             Usage      |\n",
            "|=======================================================================================|\n",
            "|  No running processes found                                                           |\n",
            "+---------------------------------------------------------------------------------------+\n"
          ]
        }
      ],
      "source": [
        "! nvidia-smi"
      ]
    },
    {
      "cell_type": "markdown",
      "metadata": {
        "id": "C3p2iNDlMjxq"
      },
      "source": [
        "Install dependencies\n"
      ]
    },
    {
      "cell_type": "code",
      "execution_count": 2,
      "metadata": {
        "id": "eO9FD3yzMf0V",
        "colab": {
          "base_uri": "https://localhost:8080/"
        },
        "outputId": "51b609a9-1407-4b73-b2e7-4a3e79c30fbf"
      },
      "outputs": [
        {
          "output_type": "stream",
          "name": "stdout",
          "text": [
            "Cloning into 'SyncTalk'...\n",
            "remote: Enumerating objects: 286, done.\u001b[K\n",
            "remote: Counting objects: 100% (137/137), done.\u001b[K\n",
            "remote: Compressing objects: 100% (69/69), done.\u001b[K\n",
            "remote: Total 286 (delta 105), reused 69 (delta 68), pack-reused 149 (from 1)\u001b[K\n",
            "Receiving objects: 100% (286/286), 29.52 MiB | 8.48 MiB/s, done.\n",
            "Resolving deltas: 100% (112/112), done.\n",
            "/content/SyncTalk\n"
          ]
        }
      ],
      "source": [
        "! git clone https://github.com/ZiqiaoPeng/SyncTalk.git\n",
        "%cd SyncTalk"
      ]
    },
    {
      "cell_type": "code",
      "execution_count": null,
      "metadata": {
        "id": "QpU-tRFQNtVK",
        "colab": {
          "base_uri": "https://localhost:8080/",
          "height": 1000
        },
        "outputId": "e5ebc9e5-e7d8-4ce2-eaad-a34bbb706ded"
      },
      "outputs": [
        {
          "output_type": "stream",
          "name": "stdout",
          "text": [
            "Reading package lists... Done\n",
            "Building dependency tree... Done\n",
            "Reading state information... Done\n",
            "libasound2-dev is already the newest version (1.2.6.1-1ubuntu1).\n",
            "ffmpeg is already the newest version (7:4.4.2-0ubuntu0.22.04.1).\n",
            "Suggested packages:\n",
            "  portaudio19-doc\n",
            "The following NEW packages will be installed:\n",
            "  libportaudio2 libportaudiocpp0 portaudio19-dev\n",
            "0 upgraded, 3 newly installed, 0 to remove and 49 not upgraded.\n",
            "Need to get 188 kB of archives.\n",
            "After this operation, 927 kB of additional disk space will be used.\n",
            "Get:1 http://archive.ubuntu.com/ubuntu jammy/universe amd64 libportaudio2 amd64 19.6.0-1.1 [65.3 kB]\n",
            "Get:2 http://archive.ubuntu.com/ubuntu jammy/universe amd64 libportaudiocpp0 amd64 19.6.0-1.1 [16.1 kB]\n",
            "Get:3 http://archive.ubuntu.com/ubuntu jammy/universe amd64 portaudio19-dev amd64 19.6.0-1.1 [106 kB]\n",
            "Fetched 188 kB in 2s (108 kB/s)\n",
            "Selecting previously unselected package libportaudio2:amd64.\n",
            "(Reading database ... 123597 files and directories currently installed.)\n",
            "Preparing to unpack .../libportaudio2_19.6.0-1.1_amd64.deb ...\n",
            "Unpacking libportaudio2:amd64 (19.6.0-1.1) ...\n",
            "Selecting previously unselected package libportaudiocpp0:amd64.\n",
            "Preparing to unpack .../libportaudiocpp0_19.6.0-1.1_amd64.deb ...\n",
            "Unpacking libportaudiocpp0:amd64 (19.6.0-1.1) ...\n",
            "Selecting previously unselected package portaudio19-dev:amd64.\n",
            "Preparing to unpack .../portaudio19-dev_19.6.0-1.1_amd64.deb ...\n",
            "Unpacking portaudio19-dev:amd64 (19.6.0-1.1) ...\n",
            "Setting up libportaudio2:amd64 (19.6.0-1.1) ...\n",
            "Setting up libportaudiocpp0:amd64 (19.6.0-1.1) ...\n",
            "Setting up portaudio19-dev:amd64 (19.6.0-1.1) ...\n",
            "Processing triggers for libc-bin (2.35-0ubuntu3.4) ...\n",
            "/sbin/ldconfig.real: /usr/local/lib/libtbbmalloc_proxy.so.2 is not a symbolic link\n",
            "\n",
            "/sbin/ldconfig.real: /usr/local/lib/libtbbmalloc.so.2 is not a symbolic link\n",
            "\n",
            "/sbin/ldconfig.real: /usr/local/lib/libtbbbind_2_5.so.3 is not a symbolic link\n",
            "\n",
            "/sbin/ldconfig.real: /usr/local/lib/libtbbbind.so.3 is not a symbolic link\n",
            "\n",
            "/sbin/ldconfig.real: /usr/local/lib/libur_loader.so.0 is not a symbolic link\n",
            "\n",
            "/sbin/ldconfig.real: /usr/local/lib/libtbb.so.12 is not a symbolic link\n",
            "\n",
            "/sbin/ldconfig.real: /usr/local/lib/libur_adapter_opencl.so.0 is not a symbolic link\n",
            "\n",
            "/sbin/ldconfig.real: /usr/local/lib/libtbbbind_2_0.so.3 is not a symbolic link\n",
            "\n",
            "/sbin/ldconfig.real: /usr/local/lib/libur_adapter_level_zero.so.0 is not a symbolic link\n",
            "\n",
            "Collecting torch-ema (from -r requirements.txt (line 1))\n",
            "  Downloading torch_ema-0.3-py3-none-any.whl.metadata (415 bytes)\n",
            "Collecting ninja (from -r requirements.txt (line 2))\n",
            "  Downloading ninja-1.11.1.1-py2.py3-none-manylinux1_x86_64.manylinux_2_5_x86_64.whl.metadata (5.3 kB)\n",
            "Collecting trimesh (from -r requirements.txt (line 3))\n",
            "  Downloading trimesh-4.4.8-py3-none-any.whl.metadata (18 kB)\n",
            "Requirement already satisfied: opencv-python in /usr/local/lib/python3.10/dist-packages (from -r requirements.txt (line 4)) (4.10.0.84)\n",
            "Collecting tensorboardX (from -r requirements.txt (line 5))\n",
            "  Downloading tensorboardX-2.6.2.2-py2.py3-none-any.whl.metadata (5.8 kB)\n",
            "Collecting numpy==1.24.4 (from -r requirements.txt (line 6))\n",
            "  Downloading numpy-1.24.4-cp310-cp310-manylinux_2_17_x86_64.manylinux2014_x86_64.whl.metadata (5.6 kB)\n",
            "Collecting pandas==2.0.3 (from -r requirements.txt (line 7))\n",
            "  Downloading pandas-2.0.3-cp310-cp310-manylinux_2_17_x86_64.manylinux2014_x86_64.whl.metadata (18 kB)\n",
            "Requirement already satisfied: tqdm in /usr/local/lib/python3.10/dist-packages (from -r requirements.txt (line 8)) (4.66.5)\n",
            "Requirement already satisfied: matplotlib in /usr/local/lib/python3.10/dist-packages (from -r requirements.txt (line 9)) (3.7.1)\n",
            "Collecting PyMCubes==0.1.4 (from -r requirements.txt (line 10))\n",
            "  Downloading PyMCubes-0.1.4-cp310-cp310-manylinux_2_17_x86_64.manylinux2014_x86_64.whl.metadata (863 bytes)\n",
            "Requirement already satisfied: rich in /usr/local/lib/python3.10/dist-packages (from -r requirements.txt (line 11)) (13.8.0)\n",
            "Collecting dearpygui (from -r requirements.txt (line 12))\n",
            "  Downloading dearpygui-1.11.1-cp310-cp310-manylinux1_x86_64.whl.metadata (12 kB)\n",
            "Requirement already satisfied: packaging in /usr/local/lib/python3.10/dist-packages (from -r requirements.txt (line 13)) (24.1)\n",
            "Requirement already satisfied: scipy in /usr/local/lib/python3.10/dist-packages (from -r requirements.txt (line 14)) (1.13.1)\n",
            "Requirement already satisfied: scikit-learn in /usr/local/lib/python3.10/dist-packages (from -r requirements.txt (line 15)) (1.3.2)\n",
            "Collecting transformers==4.36.0 (from -r requirements.txt (line 16))\n",
            "  Downloading transformers-4.36.0-py3-none-any.whl.metadata (126 kB)\n",
            "\u001b[2K     \u001b[90m━━━━━━━━━━━━━━━━━━━━━━━━━━━━━━━━━━━━━━━━\u001b[0m \u001b[32m126.8/126.8 kB\u001b[0m \u001b[31m9.7 MB/s\u001b[0m eta \u001b[36m0:00:00\u001b[0m\n",
            "\u001b[?25hCollecting face_alignment==1.4.1 (from -r requirements.txt (line 17))\n",
            "  Downloading face_alignment-1.4.1-py2.py3-none-any.whl.metadata (7.4 kB)\n",
            "Collecting python_speech_features (from -r requirements.txt (line 18))\n",
            "  Downloading python_speech_features-0.6.tar.gz (5.6 kB)\n",
            "  Preparing metadata (setup.py) ... \u001b[?25l\u001b[?25hdone\n",
            "Requirement already satisfied: numba in /usr/local/lib/python3.10/dist-packages (from -r requirements.txt (line 19)) (0.60.0)\n",
            "Collecting resampy (from -r requirements.txt (line 20))\n",
            "  Downloading resampy-0.4.3-py3-none-any.whl.metadata (3.0 kB)\n",
            "Collecting pyaudio (from -r requirements.txt (line 21))\n",
            "  Downloading PyAudio-0.2.14.tar.gz (47 kB)\n",
            "\u001b[2K     \u001b[90m━━━━━━━━━━━━━━━━━━━━━━━━━━━━━━━━━━━━━━━━\u001b[0m \u001b[32m47.1/47.1 kB\u001b[0m \u001b[31m4.5 MB/s\u001b[0m eta \u001b[36m0:00:00\u001b[0m\n",
            "\u001b[?25h  Installing build dependencies ... \u001b[?25l\u001b[?25hdone\n",
            "  Getting requirements to build wheel ... \u001b[?25l\u001b[?25hdone\n",
            "  Preparing metadata (pyproject.toml) ... \u001b[?25l\u001b[?25hdone\n",
            "Requirement already satisfied: soundfile in /usr/local/lib/python3.10/dist-packages (from -r requirements.txt (line 22)) (0.12.1)\n",
            "Requirement already satisfied: einops in /usr/local/lib/python3.10/dist-packages (from -r requirements.txt (line 23)) (0.8.0)\n",
            "Collecting configargparse (from -r requirements.txt (line 24))\n",
            "  Downloading ConfigArgParse-1.7-py3-none-any.whl.metadata (23 kB)\n",
            "Collecting mediapipe (from -r requirements.txt (line 25))\n",
            "  Downloading mediapipe-0.10.15-cp310-cp310-manylinux_2_17_x86_64.manylinux2014_x86_64.whl.metadata (9.7 kB)\n",
            "Collecting lpips (from -r requirements.txt (line 26))\n",
            "  Downloading lpips-0.1.4-py3-none-any.whl.metadata (10 kB)\n",
            "Requirement already satisfied: imageio-ffmpeg in /usr/local/lib/python3.10/dist-packages (from -r requirements.txt (line 27)) (0.5.1)\n",
            "Collecting onnxruntime-gpu (from -r requirements.txt (line 28))\n",
            "  Downloading onnxruntime_gpu-1.19.0-cp310-cp310-manylinux_2_27_x86_64.manylinux_2_28_x86_64.whl.metadata (4.3 kB)\n",
            "Requirement already satisfied: librosa in /usr/local/lib/python3.10/dist-packages (from -r requirements.txt (line 29)) (0.10.2.post1)\n",
            "Collecting fvcore (from -r requirements.txt (line 30))\n",
            "  Downloading fvcore-0.1.5.post20221221.tar.gz (50 kB)\n",
            "\u001b[2K     \u001b[90m━━━━━━━━━━━━━━━━━━━━━━━━━━━━━━━━━━━━━━━━\u001b[0m \u001b[32m50.2/50.2 kB\u001b[0m \u001b[31m4.6 MB/s\u001b[0m eta \u001b[36m0:00:00\u001b[0m\n",
            "\u001b[?25h  Preparing metadata (setup.py) ... \u001b[?25l\u001b[?25hdone\n",
            "Collecting iopath (from -r requirements.txt (line 31))\n",
            "  Downloading iopath-0.1.10.tar.gz (42 kB)\n",
            "\u001b[2K     \u001b[90m━━━━━━━━━━━━━━━━━━━━━━━━━━━━━━━━━━━━━━━━\u001b[0m \u001b[32m42.2/42.2 kB\u001b[0m \u001b[31m4.0 MB/s\u001b[0m eta \u001b[36m0:00:00\u001b[0m\n",
            "\u001b[?25h  Preparing metadata (setup.py) ... \u001b[?25l\u001b[?25hdone\n",
            "Requirement already satisfied: python-dateutil>=2.8.2 in /usr/local/lib/python3.10/dist-packages (from pandas==2.0.3->-r requirements.txt (line 7)) (2.8.2)\n",
            "Requirement already satisfied: pytz>=2020.1 in /usr/local/lib/python3.10/dist-packages (from pandas==2.0.3->-r requirements.txt (line 7)) (2024.1)\n",
            "Requirement already satisfied: tzdata>=2022.1 in /usr/local/lib/python3.10/dist-packages (from pandas==2.0.3->-r requirements.txt (line 7)) (2024.1)\n",
            "Requirement already satisfied: filelock in /usr/local/lib/python3.10/dist-packages (from transformers==4.36.0->-r requirements.txt (line 16)) (3.15.4)\n",
            "Requirement already satisfied: huggingface-hub<1.0,>=0.19.3 in /usr/local/lib/python3.10/dist-packages (from transformers==4.36.0->-r requirements.txt (line 16)) (0.23.5)\n",
            "Requirement already satisfied: pyyaml>=5.1 in /usr/local/lib/python3.10/dist-packages (from transformers==4.36.0->-r requirements.txt (line 16)) (6.0.2)\n",
            "Requirement already satisfied: regex!=2019.12.17 in /usr/local/lib/python3.10/dist-packages (from transformers==4.36.0->-r requirements.txt (line 16)) (2024.5.15)\n",
            "Requirement already satisfied: requests in /usr/local/lib/python3.10/dist-packages (from transformers==4.36.0->-r requirements.txt (line 16)) (2.32.3)\n",
            "Collecting tokenizers<0.19,>=0.14 (from transformers==4.36.0->-r requirements.txt (line 16))\n",
            "  Downloading tokenizers-0.15.2-cp310-cp310-manylinux_2_17_x86_64.manylinux2014_x86_64.whl.metadata (6.7 kB)\n",
            "Requirement already satisfied: safetensors>=0.3.1 in /usr/local/lib/python3.10/dist-packages (from transformers==4.36.0->-r requirements.txt (line 16)) (0.4.4)\n",
            "Requirement already satisfied: torch in /usr/local/lib/python3.10/dist-packages (from face_alignment==1.4.1->-r requirements.txt (line 17)) (2.4.0+cu121)\n",
            "Requirement already satisfied: scikit-image in /usr/local/lib/python3.10/dist-packages (from face_alignment==1.4.1->-r requirements.txt (line 17)) (0.23.2)\n",
            "Requirement already satisfied: protobuf>=3.20 in /usr/local/lib/python3.10/dist-packages (from tensorboardX->-r requirements.txt (line 5)) (3.20.3)\n",
            "Requirement already satisfied: contourpy>=1.0.1 in /usr/local/lib/python3.10/dist-packages (from matplotlib->-r requirements.txt (line 9)) (1.2.1)\n",
            "Requirement already satisfied: cycler>=0.10 in /usr/local/lib/python3.10/dist-packages (from matplotlib->-r requirements.txt (line 9)) (0.12.1)\n",
            "Requirement already satisfied: fonttools>=4.22.0 in /usr/local/lib/python3.10/dist-packages (from matplotlib->-r requirements.txt (line 9)) (4.53.1)\n",
            "Requirement already satisfied: kiwisolver>=1.0.1 in /usr/local/lib/python3.10/dist-packages (from matplotlib->-r requirements.txt (line 9)) (1.4.5)\n",
            "Requirement already satisfied: pillow>=6.2.0 in /usr/local/lib/python3.10/dist-packages (from matplotlib->-r requirements.txt (line 9)) (9.4.0)\n",
            "Requirement already satisfied: pyparsing>=2.3.1 in /usr/local/lib/python3.10/dist-packages (from matplotlib->-r requirements.txt (line 9)) (3.1.4)\n",
            "Requirement already satisfied: markdown-it-py>=2.2.0 in /usr/local/lib/python3.10/dist-packages (from rich->-r requirements.txt (line 11)) (3.0.0)\n",
            "Requirement already satisfied: pygments<3.0.0,>=2.13.0 in /usr/local/lib/python3.10/dist-packages (from rich->-r requirements.txt (line 11)) (2.16.1)\n",
            "Requirement already satisfied: joblib>=1.1.1 in /usr/local/lib/python3.10/dist-packages (from scikit-learn->-r requirements.txt (line 15)) (1.4.2)\n",
            "Requirement already satisfied: threadpoolctl>=2.0.0 in /usr/local/lib/python3.10/dist-packages (from scikit-learn->-r requirements.txt (line 15)) (3.5.0)\n",
            "Requirement already satisfied: llvmlite<0.44,>=0.43.0dev0 in /usr/local/lib/python3.10/dist-packages (from numba->-r requirements.txt (line 19)) (0.43.0)\n",
            "Requirement already satisfied: cffi>=1.0 in /usr/local/lib/python3.10/dist-packages (from soundfile->-r requirements.txt (line 22)) (1.17.0)\n",
            "Requirement already satisfied: absl-py in /usr/local/lib/python3.10/dist-packages (from mediapipe->-r requirements.txt (line 25)) (1.4.0)\n",
            "Requirement already satisfied: attrs>=19.1.0 in /usr/local/lib/python3.10/dist-packages (from mediapipe->-r requirements.txt (line 25)) (24.2.0)\n",
            "Requirement already satisfied: flatbuffers>=2.0 in /usr/local/lib/python3.10/dist-packages (from mediapipe->-r requirements.txt (line 25)) (24.3.25)\n",
            "Requirement already satisfied: jax in /usr/local/lib/python3.10/dist-packages (from mediapipe->-r requirements.txt (line 25)) (0.4.26)\n",
            "Requirement already satisfied: jaxlib in /usr/local/lib/python3.10/dist-packages (from mediapipe->-r requirements.txt (line 25)) (0.4.26+cuda12.cudnn89)\n",
            "Requirement already satisfied: opencv-contrib-python in /usr/local/lib/python3.10/dist-packages (from mediapipe->-r requirements.txt (line 25)) (4.10.0.84)\n",
            "Collecting protobuf>=3.20 (from tensorboardX->-r requirements.txt (line 5))\n",
            "  Downloading protobuf-4.25.4-cp37-abi3-manylinux2014_x86_64.whl.metadata (541 bytes)\n",
            "Collecting sounddevice>=0.4.4 (from mediapipe->-r requirements.txt (line 25))\n",
            "  Downloading sounddevice-0.5.0-py3-none-any.whl.metadata (1.4 kB)\n",
            "Requirement already satisfied: torchvision>=0.2.1 in /usr/local/lib/python3.10/dist-packages (from lpips->-r requirements.txt (line 26)) (0.19.0+cu121)\n",
            "Requirement already satisfied: setuptools in /usr/local/lib/python3.10/dist-packages (from imageio-ffmpeg->-r requirements.txt (line 27)) (71.0.4)\n",
            "Collecting coloredlogs (from onnxruntime-gpu->-r requirements.txt (line 28))\n",
            "  Downloading coloredlogs-15.0.1-py2.py3-none-any.whl.metadata (12 kB)\n",
            "Requirement already satisfied: sympy in /usr/local/lib/python3.10/dist-packages (from onnxruntime-gpu->-r requirements.txt (line 28)) (1.13.2)\n",
            "Requirement already satisfied: audioread>=2.1.9 in /usr/local/lib/python3.10/dist-packages (from librosa->-r requirements.txt (line 29)) (3.0.1)\n",
            "Requirement already satisfied: decorator>=4.3.0 in /usr/local/lib/python3.10/dist-packages (from librosa->-r requirements.txt (line 29)) (4.4.2)\n",
            "Requirement already satisfied: pooch>=1.1 in /usr/local/lib/python3.10/dist-packages (from librosa->-r requirements.txt (line 29)) (1.8.2)\n",
            "Requirement already satisfied: soxr>=0.3.2 in /usr/local/lib/python3.10/dist-packages (from librosa->-r requirements.txt (line 29)) (0.5.0)\n",
            "Requirement already satisfied: typing-extensions>=4.1.1 in /usr/local/lib/python3.10/dist-packages (from librosa->-r requirements.txt (line 29)) (4.12.2)\n",
            "Requirement already satisfied: lazy-loader>=0.1 in /usr/local/lib/python3.10/dist-packages (from librosa->-r requirements.txt (line 29)) (0.4)\n",
            "Requirement already satisfied: msgpack>=1.0 in /usr/local/lib/python3.10/dist-packages (from librosa->-r requirements.txt (line 29)) (1.0.8)\n",
            "Collecting yacs>=0.1.6 (from fvcore->-r requirements.txt (line 30))\n",
            "  Downloading yacs-0.1.8-py3-none-any.whl.metadata (639 bytes)\n",
            "Requirement already satisfied: termcolor>=1.1 in /usr/local/lib/python3.10/dist-packages (from fvcore->-r requirements.txt (line 30)) (2.4.0)\n",
            "Requirement already satisfied: tabulate in /usr/local/lib/python3.10/dist-packages (from fvcore->-r requirements.txt (line 30)) (0.9.0)\n",
            "Collecting portalocker (from iopath->-r requirements.txt (line 31))\n",
            "  Downloading portalocker-2.10.1-py3-none-any.whl.metadata (8.5 kB)\n",
            "Requirement already satisfied: pycparser in /usr/local/lib/python3.10/dist-packages (from cffi>=1.0->soundfile->-r requirements.txt (line 22)) (2.22)\n",
            "Requirement already satisfied: fsspec>=2023.5.0 in /usr/local/lib/python3.10/dist-packages (from huggingface-hub<1.0,>=0.19.3->transformers==4.36.0->-r requirements.txt (line 16)) (2024.6.1)\n",
            "Requirement already satisfied: mdurl~=0.1 in /usr/local/lib/python3.10/dist-packages (from markdown-it-py>=2.2.0->rich->-r requirements.txt (line 11)) (0.1.2)\n",
            "Requirement already satisfied: platformdirs>=2.5.0 in /usr/local/lib/python3.10/dist-packages (from pooch>=1.1->librosa->-r requirements.txt (line 29)) (4.2.2)\n",
            "Requirement already satisfied: six>=1.5 in /usr/local/lib/python3.10/dist-packages (from python-dateutil>=2.8.2->pandas==2.0.3->-r requirements.txt (line 7)) (1.16.0)\n",
            "Requirement already satisfied: charset-normalizer<4,>=2 in /usr/local/lib/python3.10/dist-packages (from requests->transformers==4.36.0->-r requirements.txt (line 16)) (3.3.2)\n",
            "Requirement already satisfied: idna<4,>=2.5 in /usr/local/lib/python3.10/dist-packages (from requests->transformers==4.36.0->-r requirements.txt (line 16)) (3.8)\n",
            "Requirement already satisfied: urllib3<3,>=1.21.1 in /usr/local/lib/python3.10/dist-packages (from requests->transformers==4.36.0->-r requirements.txt (line 16)) (2.0.7)\n",
            "Requirement already satisfied: certifi>=2017.4.17 in /usr/local/lib/python3.10/dist-packages (from requests->transformers==4.36.0->-r requirements.txt (line 16)) (2024.7.4)\n",
            "Requirement already satisfied: networkx in /usr/local/lib/python3.10/dist-packages (from torch->face_alignment==1.4.1->-r requirements.txt (line 17)) (3.3)\n",
            "Requirement already satisfied: jinja2 in /usr/local/lib/python3.10/dist-packages (from torch->face_alignment==1.4.1->-r requirements.txt (line 17)) (3.1.4)\n",
            "Collecting humanfriendly>=9.1 (from coloredlogs->onnxruntime-gpu->-r requirements.txt (line 28))\n",
            "  Downloading humanfriendly-10.0-py2.py3-none-any.whl.metadata (9.2 kB)\n",
            "Requirement already satisfied: ml-dtypes>=0.2.0 in /usr/local/lib/python3.10/dist-packages (from jax->mediapipe->-r requirements.txt (line 25)) (0.4.0)\n",
            "Requirement already satisfied: opt-einsum in /usr/local/lib/python3.10/dist-packages (from jax->mediapipe->-r requirements.txt (line 25)) (3.3.0)\n",
            "Requirement already satisfied: imageio>=2.33 in /usr/local/lib/python3.10/dist-packages (from scikit-image->face_alignment==1.4.1->-r requirements.txt (line 17)) (2.34.2)\n",
            "Requirement already satisfied: tifffile>=2022.8.12 in /usr/local/lib/python3.10/dist-packages (from scikit-image->face_alignment==1.4.1->-r requirements.txt (line 17)) (2024.8.24)\n",
            "Requirement already satisfied: mpmath<1.4,>=1.1.0 in /usr/local/lib/python3.10/dist-packages (from sympy->onnxruntime-gpu->-r requirements.txt (line 28)) (1.3.0)\n",
            "Requirement already satisfied: MarkupSafe>=2.0 in /usr/local/lib/python3.10/dist-packages (from jinja2->torch->face_alignment==1.4.1->-r requirements.txt (line 17)) (2.1.5)\n",
            "Downloading numpy-1.24.4-cp310-cp310-manylinux_2_17_x86_64.manylinux2014_x86_64.whl (17.3 MB)\n",
            "\u001b[2K   \u001b[90m━━━━━━━━━━━━━━━━━━━━━━━━━━━━━━━━━━━━━━━━\u001b[0m \u001b[32m17.3/17.3 MB\u001b[0m \u001b[31m96.0 MB/s\u001b[0m eta \u001b[36m0:00:00\u001b[0m\n",
            "\u001b[?25hDownloading pandas-2.0.3-cp310-cp310-manylinux_2_17_x86_64.manylinux2014_x86_64.whl (12.3 MB)\n",
            "\u001b[2K   \u001b[90m━━━━━━━━━━━━━━━━━━━━━━━━━━━━━━━━━━━━━━━━\u001b[0m \u001b[32m12.3/12.3 MB\u001b[0m \u001b[31m111.7 MB/s\u001b[0m eta \u001b[36m0:00:00\u001b[0m\n",
            "\u001b[?25hDownloading PyMCubes-0.1.4-cp310-cp310-manylinux_2_17_x86_64.manylinux2014_x86_64.whl (274 kB)\n",
            "\u001b[2K   \u001b[90m━━━━━━━━━━━━━━━━━━━━━━━━━━━━━━━━━━━━━━━━\u001b[0m \u001b[32m274.3/274.3 kB\u001b[0m \u001b[31m22.6 MB/s\u001b[0m eta \u001b[36m0:00:00\u001b[0m\n",
            "\u001b[?25hDownloading transformers-4.36.0-py3-none-any.whl (8.2 MB)\n",
            "\u001b[2K   \u001b[90m━━━━━━━━━━━━━━━━━━━━━━━━━━━━━━━━━━━━━━━━\u001b[0m \u001b[32m8.2/8.2 MB\u001b[0m \u001b[31m123.8 MB/s\u001b[0m eta \u001b[36m0:00:00\u001b[0m\n",
            "\u001b[?25hDownloading face_alignment-1.4.1-py2.py3-none-any.whl (30 kB)\n",
            "Downloading torch_ema-0.3-py3-none-any.whl (5.5 kB)\n",
            "Downloading ninja-1.11.1.1-py2.py3-none-manylinux1_x86_64.manylinux_2_5_x86_64.whl (307 kB)\n",
            "\u001b[2K   \u001b[90m━━━━━━━━━━━━━━━━━━━━━━━━━━━━━━━━━━━━━━━━\u001b[0m \u001b[32m307.2/307.2 kB\u001b[0m \u001b[31m7.8 MB/s\u001b[0m eta \u001b[36m0:00:00\u001b[0m\n",
            "\u001b[?25hDownloading trimesh-4.4.8-py3-none-any.whl (696 kB)\n",
            "\u001b[2K   \u001b[90m━━━━━━━━━━━━━━━━━━━━━━━━━━━━━━━━━━━━━━━━\u001b[0m \u001b[32m696.6/696.6 kB\u001b[0m \u001b[31m33.8 MB/s\u001b[0m eta \u001b[36m0:00:00\u001b[0m\n",
            "\u001b[?25hDownloading tensorboardX-2.6.2.2-py2.py3-none-any.whl (101 kB)\n",
            "\u001b[2K   \u001b[90m━━━━━━━━━━━━━━━━━━━━━━━━━━━━━━━━━━━━━━━━\u001b[0m \u001b[32m101.7/101.7 kB\u001b[0m \u001b[31m10.2 MB/s\u001b[0m eta \u001b[36m0:00:00\u001b[0m\n",
            "\u001b[?25hDownloading dearpygui-1.11.1-cp310-cp310-manylinux1_x86_64.whl (2.8 MB)\n",
            "\u001b[2K   \u001b[90m━━━━━━━━━━━━━━━━━━━━━━━━━━━━━━━━━━━━━━━━\u001b[0m \u001b[32m2.8/2.8 MB\u001b[0m \u001b[31m76.6 MB/s\u001b[0m eta \u001b[36m0:00:00\u001b[0m\n",
            "\u001b[?25hDownloading resampy-0.4.3-py3-none-any.whl (3.1 MB)\n",
            "\u001b[2K   \u001b[90m━━━━━━━━━━━━━━━━━━━━━━━━━━━━━━━━━━━━━━━━\u001b[0m \u001b[32m3.1/3.1 MB\u001b[0m \u001b[31m91.3 MB/s\u001b[0m eta \u001b[36m0:00:00\u001b[0m\n",
            "\u001b[?25hDownloading ConfigArgParse-1.7-py3-none-any.whl (25 kB)\n",
            "Downloading mediapipe-0.10.15-cp310-cp310-manylinux_2_17_x86_64.manylinux2014_x86_64.whl (35.9 MB)\n",
            "\u001b[2K   \u001b[90m━━━━━━━━━━━━━━━━━━━━━━━━━━━━━━━━━━━━━━━━\u001b[0m \u001b[32m35.9/35.9 MB\u001b[0m \u001b[31m19.9 MB/s\u001b[0m eta \u001b[36m0:00:00\u001b[0m\n",
            "\u001b[?25hDownloading lpips-0.1.4-py3-none-any.whl (53 kB)\n",
            "\u001b[2K   \u001b[90m━━━━━━━━━━━━━━━━━━━━━━━━━━━━━━━━━━━━━━━━\u001b[0m \u001b[32m53.8/53.8 kB\u001b[0m \u001b[31m4.2 MB/s\u001b[0m eta \u001b[36m0:00:00\u001b[0m\n",
            "\u001b[?25hDownloading onnxruntime_gpu-1.19.0-cp310-cp310-manylinux_2_27_x86_64.manylinux_2_28_x86_64.whl (223.1 MB)\n",
            "\u001b[2K   \u001b[90m━━━━━━━━━━━━━━━━━━━━━━━━━━━━━━━━━━━━━━━━\u001b[0m \u001b[32m223.1/223.1 MB\u001b[0m \u001b[31m5.5 MB/s\u001b[0m eta \u001b[36m0:00:00\u001b[0m\n",
            "\u001b[?25hDownloading protobuf-4.25.4-cp37-abi3-manylinux2014_x86_64.whl (294 kB)\n",
            "\u001b[2K   \u001b[90m━━━━━━━━━━━━━━━━━━━━━━━━━━━━━━━━━━━━━━━━\u001b[0m \u001b[32m294.6/294.6 kB\u001b[0m \u001b[31m25.6 MB/s\u001b[0m eta \u001b[36m0:00:00\u001b[0m\n",
            "\u001b[?25hDownloading sounddevice-0.5.0-py3-none-any.whl (32 kB)\n",
            "Downloading tokenizers-0.15.2-cp310-cp310-manylinux_2_17_x86_64.manylinux2014_x86_64.whl (3.6 MB)\n",
            "\u001b[2K   \u001b[90m━━━━━━━━━━━━━━━━━━━━━━━━━━━━━━━━━━━━━━━━\u001b[0m \u001b[32m3.6/3.6 MB\u001b[0m \u001b[31m97.0 MB/s\u001b[0m eta \u001b[36m0:00:00\u001b[0m\n",
            "\u001b[?25hDownloading yacs-0.1.8-py3-none-any.whl (14 kB)\n",
            "Downloading coloredlogs-15.0.1-py2.py3-none-any.whl (46 kB)\n",
            "\u001b[2K   \u001b[90m━━━━━━━━━━━━━━━━━━━━━━━━━━━━━━━━━━━━━━━━\u001b[0m \u001b[32m46.0/46.0 kB\u001b[0m \u001b[31m4.2 MB/s\u001b[0m eta \u001b[36m0:00:00\u001b[0m\n",
            "\u001b[?25hDownloading portalocker-2.10.1-py3-none-any.whl (18 kB)\n",
            "Downloading humanfriendly-10.0-py2.py3-none-any.whl (86 kB)\n",
            "\u001b[2K   \u001b[90m━━━━━━━━━━━━━━━━━━━━━━━━━━━━━━━━━━━━━━━━\u001b[0m \u001b[32m86.8/86.8 kB\u001b[0m \u001b[31m7.9 MB/s\u001b[0m eta \u001b[36m0:00:00\u001b[0m\n",
            "\u001b[?25hBuilding wheels for collected packages: python_speech_features, pyaudio, fvcore, iopath\n",
            "  Building wheel for python_speech_features (setup.py) ... \u001b[?25l\u001b[?25hdone\n",
            "  Created wheel for python_speech_features: filename=python_speech_features-0.6-py3-none-any.whl size=5867 sha256=d91552342d5291960808ef6f736475873fc6e7100ab7bdf6ed8353217ab53555\n",
            "  Stored in directory: /root/.cache/pip/wheels/5a/9e/68/30bad9462b3926c29e315df16b562216d12bdc215f4d240294\n",
            "  Building wheel for pyaudio (pyproject.toml) ... \u001b[?25l\u001b[?25hdone\n",
            "  Created wheel for pyaudio: filename=PyAudio-0.2.14-cp310-cp310-linux_x86_64.whl size=63861 sha256=16ff160c33f4d8860020888e177456a798024a854b0b580b5bcd6d1d6f211c83\n",
            "  Stored in directory: /root/.cache/pip/wheels/d6/21/f4/0b51d41ba79e51b16295cbb096ec49f334792814d545b508c5\n",
            "  Building wheel for fvcore (setup.py) ... \u001b[?25l\u001b[?25hdone\n",
            "  Created wheel for fvcore: filename=fvcore-0.1.5.post20221221-py3-none-any.whl size=61395 sha256=785b6cb0088bdb280a50f649dce0bec7b68fe01e27ef06541ace480e5b0a1107\n",
            "  Stored in directory: /root/.cache/pip/wheels/01/c0/af/77c1cf53a1be9e42a52b48e5af2169d40ec2e89f7362489dd0\n",
            "  Building wheel for iopath (setup.py) ... \u001b[?25l\u001b[?25hdone\n",
            "  Created wheel for iopath: filename=iopath-0.1.10-py3-none-any.whl size=31529 sha256=5ef15fc672f74b7ac347d5e4ab3f677117157b170f6076108ebba934d8f000be\n",
            "  Stored in directory: /root/.cache/pip/wheels/9a/a3/b6/ac0fcd1b4ed5cfeb3db92e6a0e476cfd48ed0df92b91080c1d\n",
            "Successfully built python_speech_features pyaudio fvcore iopath\n",
            "Installing collected packages: python_speech_features, pyaudio, ninja, yacs, protobuf, portalocker, numpy, humanfriendly, dearpygui, configargparse, trimesh, tensorboardX, sounddevice, pandas, iopath, coloredlogs, torch-ema, tokenizers, resampy, PyMCubes, onnxruntime-gpu, fvcore, transformers, mediapipe, lpips, face_alignment\n",
            "  Attempting uninstall: protobuf\n",
            "    Found existing installation: protobuf 3.20.3\n",
            "    Uninstalling protobuf-3.20.3:\n",
            "      Successfully uninstalled protobuf-3.20.3\n",
            "  Attempting uninstall: numpy\n",
            "    Found existing installation: numpy 1.26.4\n",
            "    Uninstalling numpy-1.26.4:\n",
            "      Successfully uninstalled numpy-1.26.4\n",
            "  Attempting uninstall: pandas\n",
            "    Found existing installation: pandas 2.1.4\n",
            "    Uninstalling pandas-2.1.4:\n",
            "      Successfully uninstalled pandas-2.1.4\n",
            "  Attempting uninstall: tokenizers\n",
            "    Found existing installation: tokenizers 0.19.1\n",
            "    Uninstalling tokenizers-0.19.1:\n",
            "      Successfully uninstalled tokenizers-0.19.1\n",
            "  Attempting uninstall: transformers\n",
            "    Found existing installation: transformers 4.42.4\n",
            "    Uninstalling transformers-4.42.4:\n",
            "      Successfully uninstalled transformers-4.42.4\n",
            "\u001b[31mERROR: pip's dependency resolver does not currently take into account all the packages that are installed. This behaviour is the source of the following dependency conflicts.\n",
            "google-colab 1.0.0 requires pandas==2.1.4, but you have pandas 2.0.3 which is incompatible.\n",
            "pandas-stubs 2.1.4.231227 requires numpy>=1.26.0; python_version < \"3.13\", but you have numpy 1.24.4 which is incompatible.\n",
            "tensorflow-metadata 1.15.0 requires protobuf<4.21,>=3.20.3; python_version < \"3.11\", but you have protobuf 4.25.4 which is incompatible.\u001b[0m\u001b[31m\n",
            "\u001b[0mSuccessfully installed PyMCubes-0.1.4 coloredlogs-15.0.1 configargparse-1.7 dearpygui-1.11.1 face_alignment-1.4.1 fvcore-0.1.5.post20221221 humanfriendly-10.0 iopath-0.1.10 lpips-0.1.4 mediapipe-0.10.15 ninja-1.11.1.1 numpy-1.24.4 onnxruntime-gpu-1.19.0 pandas-2.0.3 portalocker-2.10.1 protobuf-4.25.4 pyaudio-0.2.14 python_speech_features-0.6 resampy-0.4.3 sounddevice-0.5.0 tensorboardX-2.6.2.2 tokenizers-0.15.2 torch-ema-0.3 transformers-4.36.0 trimesh-4.4.8 yacs-0.1.8\n"
          ]
        },
        {
          "output_type": "display_data",
          "data": {
            "application/vnd.colab-display-data+json": {
              "pip_warning": {
                "packages": [
                  "numpy"
                ]
              },
              "id": "c306e71bcb074cf8890af077b934ef82"
            }
          },
          "metadata": {}
        },
        {
          "output_type": "stream",
          "name": "stdout",
          "text": [
            "Requirement already satisfied: fvcore in /usr/local/lib/python3.10/dist-packages (0.1.5.post20221221)\n",
            "Requirement already satisfied: iopath in /usr/local/lib/python3.10/dist-packages (0.1.10)\n",
            "Requirement already satisfied: numpy in /usr/local/lib/python3.10/dist-packages (from fvcore) (1.24.4)\n",
            "Requirement already satisfied: yacs>=0.1.6 in /usr/local/lib/python3.10/dist-packages (from fvcore) (0.1.8)\n",
            "Requirement already satisfied: pyyaml>=5.1 in /usr/local/lib/python3.10/dist-packages (from fvcore) (6.0.2)\n",
            "Requirement already satisfied: tqdm in /usr/local/lib/python3.10/dist-packages (from fvcore) (4.66.5)\n",
            "Requirement already satisfied: termcolor>=1.1 in /usr/local/lib/python3.10/dist-packages (from fvcore) (2.4.0)\n",
            "Requirement already satisfied: Pillow in /usr/local/lib/python3.10/dist-packages (from fvcore) (9.4.0)\n",
            "Requirement already satisfied: tabulate in /usr/local/lib/python3.10/dist-packages (from fvcore) (0.9.0)\n",
            "Requirement already satisfied: typing-extensions in /usr/local/lib/python3.10/dist-packages (from iopath) (4.12.2)\n",
            "Requirement already satisfied: portalocker in /usr/local/lib/python3.10/dist-packages (from iopath) (2.10.1)\n",
            "Looking in links: https://dl.fbaipublicfiles.com/pytorch3d/packaging/wheels/py310_cu121_pyt240/download.html\n",
            "\u001b[31mERROR: Could not find a version that satisfies the requirement pytorch3d (from versions: none)\u001b[0m\u001b[31m\n",
            "\u001b[0m\u001b[31mERROR: No matching distribution found for pytorch3d\u001b[0m\u001b[31m\n",
            "\u001b[0mCollecting ffmpeg-python\n",
            "  Downloading ffmpeg_python-0.2.0-py3-none-any.whl.metadata (1.7 kB)\n",
            "Requirement already satisfied: future in /usr/local/lib/python3.10/dist-packages (from ffmpeg-python) (1.0.0)\n",
            "Downloading ffmpeg_python-0.2.0-py3-none-any.whl (25 kB)\n",
            "Installing collected packages: ffmpeg-python\n",
            "Successfully installed ffmpeg-python-0.2.0\n",
            "['import os\\n', 'from torch.utils.cpp_extension import load\\n', '\\n', '_src_path = os.path.dirname(os.path.abspath(__file__))\\n', '\\n', 'nvcc_flags = [\\n', \"    '-O3', '-std=c++17',\\n\", \"    '-U__CUDA_NO_HALF_OPERATORS__', '-U__CUDA_NO_HALF_CONVERSIONS__', '-U__CUDA_NO_HALF2_OPERATORS__',\\n\", ']\\n', '\\n', 'if os.name == \"posix\":\\n', \"    c_flags = ['-O3', '-std=c++17']\\n\", 'elif os.name == \"nt\":\\n', \"    c_flags = ['/O2', '/std:c++17']\\n\", '\\n', '    # find cl.exe\\n', '    def find_cl_path():\\n', '        import glob\\n', '        for edition in [\"Enterprise\", \"Professional\", \"BuildTools\", \"Community\"]:\\n', '            paths = sorted(glob.glob(r\"C:\\\\\\\\Program Files (x86)\\\\\\\\Microsoft Visual Studio\\\\\\\\*\\\\\\\\%s\\\\\\\\VC\\\\\\\\Tools\\\\\\\\MSVC\\\\\\\\*\\\\\\\\bin\\\\\\\\Hostx64\\\\\\\\x64\" % edition), reverse=True)\\n', '            if paths:\\n', '                return paths[0]\\n', '\\n', '    # If cl.exe is not on path, try to find it.\\n', '    if os.system(\"where cl.exe >nul 2>nul\") != 0:\\n', '        cl_path = find_cl_path()\\n', '        if cl_path is None:\\n', '            raise RuntimeError(\"Could not locate a supported Microsoft Visual C++ installation\")\\n', '        os.environ[\"PATH\"] += \";\" + cl_path\\n', '\\n', \"_backend = load(name='_raymarching_face',\\n\", '                extra_cflags=c_flags,\\n', '                extra_cuda_cflags=nvcc_flags,\\n', \"                sources=[os.path.join(_src_path, 'src', f) for f in [\\n\", \"                    'raymarching.cu',\\n\", \"                    'bindings.cpp',\\n\", '                ]],\\n', '                )\\n', '\\n', \"__all__ = ['_backend']\"]\n",
            "['import os\\n', 'from torch.utils.cpp_extension import load\\n', '\\n', '_src_path = os.path.dirname(os.path.abspath(__file__))\\n', '\\n', 'nvcc_flags = [\\n', \"    '-O3', '-std=c++17',\\n\", \"    '-U__CUDA_NO_HALF_OPERATORS__', '-U__CUDA_NO_HALF_CONVERSIONS__', '-U__CUDA_NO_HALF2_OPERATORS__',\\n\", ']\\n', '\\n', 'if os.name == \"posix\":\\n', \"    c_flags = ['-O3', '-std=c++17', '-finput-charset=utf-8']\\n\", 'elif os.name == \"nt\":\\n', \"    c_flags = ['/O2', '/std:c++17', '/source-charset:utf-8']\\n\", '\\n', '    # find cl.exe\\n', '    def find_cl_path():\\n', '        import glob\\n', '        for edition in [\"Enterprise\", \"Professional\", \"BuildTools\", \"Community\"]:\\n', '            paths = sorted(glob.glob(r\"C:\\\\\\\\Program Files (x86)\\\\\\\\Microsoft Visual Studio\\\\\\\\*\\\\\\\\%s\\\\\\\\VC\\\\\\\\Tools\\\\\\\\MSVC\\\\\\\\*\\\\\\\\bin\\\\\\\\Hostx64\\\\\\\\x64\" % edition), reverse=True)\\n', '            if paths:\\n', '                return paths[0]\\n', '\\n', '    # If cl.exe is not on path, try to find it.\\n', '    if os.system(\"where cl.exe >nul 2>nul\") != 0:\\n', '        cl_path = find_cl_path()\\n', '        if cl_path is None:\\n', '            raise RuntimeError(\"Could not locate a supported Microsoft Visual C++ installation\")\\n', '        os.environ[\"PATH\"] += \";\" + cl_path\\n', '\\n', \"_backend = load(name='_sh_encoder',\\n\", '                extra_cflags=c_flags,\\n', '                extra_cuda_cflags=nvcc_flags,\\n', \"                sources=[os.path.join(_src_path, 'src', f) for f in [\\n\", \"                    'shencoder.cu',\\n\", \"                    'bindings.cpp',\\n\", '                ]],\\n', '                )\\n', '\\n', \"__all__ = ['_backend']\"]\n",
            "['import os\\n', 'from torch.utils.cpp_extension import load\\n', '\\n', '_src_path = os.path.dirname(os.path.abspath(__file__))\\n', '\\n', 'nvcc_flags = [\\n', \"    '-O3', '-std=c++17',\\n\", \"    '-U__CUDA_NO_HALF_OPERATORS__', '-U__CUDA_NO_HALF_CONVERSIONS__', '-U__CUDA_NO_HALF2_OPERATORS__',\\n\", ']\\n', '\\n', 'if os.name == \"posix\":\\n', \"    c_flags = ['-O3', '-std=c++17', '-finput-charset=UTF-8']\\n\", 'elif os.name == \"nt\":\\n', \"    c_flags = ['/O2', '/std:c++17', '/finput-charset=UTF-8']\\n\", '\\n', '    # find cl.exe\\n', '    def find_cl_path():\\n', '        import glob\\n', '        for edition in [\"Enterprise\", \"Professional\", \"BuildTools\", \"Community\"]:\\n', '            paths = sorted(glob.glob(r\"C:\\\\\\\\Program Files (x86)\\\\\\\\Microsoft Visual Studio\\\\\\\\*\\\\\\\\%s\\\\\\\\VC\\\\\\\\Tools\\\\\\\\MSVC\\\\\\\\*\\\\\\\\bin\\\\\\\\Hostx64\\\\\\\\x64\" % edition), reverse=True)\\n', '            if paths:\\n', '                return paths[0]\\n', '\\n', '    # If cl.exe is not on path, try to find it.\\n', '    if os.system(\"where cl.exe >nul 2>nul\") != 0:\\n', '        cl_path = find_cl_path()\\n', '        if cl_path is None:\\n', '            raise RuntimeError(\"Could not locate a supported Microsoft Visual C++ installation\")\\n', '        os.environ[\"PATH\"] += \";\" + cl_path\\n', '\\n', \"_backend = load(name='_grid_encoder',\\n\", '                extra_cflags=c_flags,\\n', '                extra_cuda_cflags=nvcc_flags,\\n', \"                sources=[os.path.join(_src_path, 'src', f) for f in [\\n\", \"                    'gridencoder.cu',\\n\", \"                    'bindings.cpp',\\n\", '                ]],\\n', '                )\\n', '\\n', \"__all__ = ['_backend']\"]\n",
            "['import os\\n', 'from torch.utils.cpp_extension import load\\n', '\\n', '_src_path = os.path.dirname(os.path.abspath(__file__))\\n', '\\n', 'nvcc_flags = [\\n', \"    '-O3', '-std=c++17',\\n\", \"    '-U__CUDA_NO_HALF_OPERATORS__', '-U__CUDA_NO_HALF_CONVERSIONS__', '-U__CUDA_NO_HALF2_OPERATORS__',\\n\", \"    '-use_fast_math'\\n\", ']\\n', '\\n', 'if os.name == \"posix\":\\n', \"    c_flags = ['-O3', '-std=c++17']\\n\", 'elif os.name == \"nt\":\\n', \"    c_flags = ['/O2', '/std:c++17']\\n\", '\\n', '    # find cl.exe\\n', '    def find_cl_path():\\n', '        import glob\\n', '        for edition in [\"Enterprise\", \"Professional\", \"BuildTools\", \"Community\"]:\\n', '            paths = sorted(glob.glob(r\"C:\\\\\\\\Program Files (x86)\\\\\\\\Microsoft Visual Studio\\\\\\\\*\\\\\\\\%s\\\\\\\\VC\\\\\\\\Tools\\\\\\\\MSVC\\\\\\\\*\\\\\\\\bin\\\\\\\\Hostx64\\\\\\\\x64\" % edition), reverse=True)\\n', '            if paths:\\n', '                return paths[0]\\n', '\\n', '    # If cl.exe is not on path, try to find it.\\n', '    if os.system(\"where cl.exe >nul 2>nul\") != 0:\\n', '        cl_path = find_cl_path()\\n', '        if cl_path is None:\\n', '            raise RuntimeError(\"Could not locate a supported Microsoft Visual C++ installation\")\\n', '        os.environ[\"PATH\"] += \";\" + cl_path\\n', '\\n', \"_backend = load(name='_freqencoder',\\n\", '                extra_cflags=c_flags,\\n', '                extra_cuda_cflags=nvcc_flags,\\n', \"                sources=[os.path.join(_src_path, 'src', f) for f in [\\n\", \"                    'freqencoder.cu',\\n\", \"                    'bindings.cpp',\\n\", '                ]],\\n', '                )\\n', '\\n', \"__all__ = ['_backend']\"]\n",
            "Processing ./freqencoder\n",
            "  Preparing metadata (setup.py) ... \u001b[?25l\u001b[?25hdone\n",
            "Building wheels for collected packages: freqencoder\n",
            "  Building wheel for freqencoder (setup.py) ... \u001b[?25l\u001b[?25hdone\n",
            "  Created wheel for freqencoder: filename=freqencoder-0.0.0-cp310-cp310-linux_x86_64.whl size=2657152 sha256=f338dcb434abfe82915f3019f37482d8754de54da3abdd569dc2dc303e02cd1a\n",
            "  Stored in directory: /tmp/pip-ephem-wheel-cache-hpgqne1x/wheels/03/e8/56/214f4397fc9372f886ae9ad804d6c52272f43d46b4e0d7845a\n",
            "Successfully built freqencoder\n",
            "Installing collected packages: freqencoder\n",
            "Successfully installed freqencoder-0.0.0\n",
            "Processing ./shencoder\n",
            "  Preparing metadata (setup.py) ... \u001b[?25l\u001b[?25hdone\n",
            "Building wheels for collected packages: shencoder\n",
            "  Building wheel for shencoder (setup.py) ... \u001b[?25l\u001b[?25hdone\n",
            "  Created wheel for shencoder: filename=shencoder-0.0.0-cp310-cp310-linux_x86_64.whl size=2727558 sha256=f76ea4140baa474d055488f17d9a01158c774afebfcaa2b35fed2e0083993041\n",
            "  Stored in directory: /tmp/pip-ephem-wheel-cache-6n19rapo/wheels/4f/50/a6/067f11939cf5f47f5ad7aa8ba00c85b0b989a1ddaadd338ccf\n",
            "Successfully built shencoder\n",
            "Installing collected packages: shencoder\n",
            "Successfully installed shencoder-0.0.0\n",
            "Processing ./gridencoder\n",
            "  Preparing metadata (setup.py) ... \u001b[?25l\u001b[?25hdone\n",
            "Building wheels for collected packages: gridencoder\n"
          ]
        }
      ],
      "source": [
        "# about 15 minutes\n",
        "! apt install libasound2-dev portaudio19-dev libportaudio2 libportaudiocpp0 ffmpeg\n",
        "! pip install -r requirements.txt\n",
        "! python ./scripts/install_pytorch3d.py\n",
        "! pip install ffmpeg-python\n",
        "# borrow code from GeneFace++\n",
        "import glob\n",
        "all_files = glob.glob(\"*/*.py\")\n",
        "for file in all_files:\n",
        "  with open(file) as f:\n",
        "    lines = f.readlines()\n",
        "    lines = [line.replace('-std=c++14', '-std=c++17') for line in lines]\n",
        "    if 'backend' in file:\n",
        "      print(lines)\n",
        "  with open(file, 'w') as f:\n",
        "    f.writelines(lines)\n",
        "! pip install ./freqencoder\n",
        "! pip install ./shencoder\n",
        "! pip install ./gridencoder\n",
        "! pip install ./raymarching"
      ]
    },
    {
      "cell_type": "markdown",
      "metadata": {
        "id": "eOAKbOmcxYm_"
      },
      "source": [
        "Clone code and download checkpoints"
      ]
    },
    {
      "cell_type": "code",
      "execution_count": null,
      "metadata": {
        "id": "gF9eaeQQN_cM"
      },
      "outputs": [],
      "source": [
        "%cd data\n",
        "! gdown https://drive.google.com/uc?id=18Q2H612CAReFxBd9kxr-i1dD8U1AUfsV\n",
        "! unzip May.zip\n",
        "%cd ../model\n",
        "! gdown https://drive.google.com/uc?id=1C2639qi9jvhRygYHwPZDGs8pun3po3W7\n",
        "! unzip trial_may.zip"
      ]
    },
    {
      "cell_type": "markdown",
      "metadata": {
        "id": "FTklYAKWxUXJ"
      },
      "source": [
        "Inference with target audio"
      ]
    },
    {
      "cell_type": "code",
      "execution_count": null,
      "metadata": {
        "id": "7d4TcS7du-ym"
      },
      "outputs": [],
      "source": [
        "%cd ..\n",
        "! python main.py data/May --workspace model/trial_may -O --test --test_train --asr_model ave --portrait --aud ./demo/test.wav"
      ]
    },
    {
      "cell_type": "markdown",
      "metadata": {
        "id": "RWK0mqVlxRNA"
      },
      "source": [
        "Display output video"
      ]
    },
    {
      "cell_type": "code",
      "execution_count": null,
      "metadata": {
        "id": "8iXfPZ8WwUyl"
      },
      "outputs": [],
      "source": [
        "# borrow code from makeittalk\n",
        "from IPython.display import HTML\n",
        "from base64 import b64encode\n",
        "import os, sys\n",
        "import glob\n",
        "\n",
        "mp4_name = './model/trial_may/results/ngp_ep0019_audio.mp4'\n",
        "\n",
        "mp4 = open('{}'.format(mp4_name),'rb').read()\n",
        "data_url = \"data:video/mp4;base64,\" + b64encode(mp4).decode()\n",
        "\n",
        "print('Display animation: {}'.format(mp4_name), file=sys.stderr)\n",
        "display(HTML(\"\"\"\n",
        "  <video width=256 controls>\n",
        "        <source src=\"%s\" type=\"video/mp4\">\n",
        "  </video>\n",
        "  \"\"\" % data_url))"
      ]
    }
  ],
  "metadata": {
    "accelerator": "GPU",
    "colab": {
      "gpuType": "T4",
      "provenance": [],
      "include_colab_link": true
    },
    "kernelspec": {
      "display_name": "Python 3",
      "name": "python3"
    },
    "language_info": {
      "name": "python"
    }
  },
  "nbformat": 4,
  "nbformat_minor": 0
}